{
 "cells": [
  {
   "cell_type": "markdown",
   "id": "165afe4b-04af-43f0-93f9-b0ee79b7e7e9",
   "metadata": {},
   "source": [
    "# Python Crash Course"
   ]
  },
  {
   "cell_type": "markdown",
   "id": "b0d79961",
   "metadata": {},
   "source": [
    "## Comments\n",
    "- A **comment** is a line of text ignored by Python.\n",
    "- Use a hashtag/octothorpe (#) to create a comment."
   ]
  },
  {
   "cell_type": "code",
   "execution_count": 4,
   "id": "5f7086e1-1eb1-482c-a4a0-5fd1869fbc5c",
   "metadata": {
    "tags": []
   },
   "outputs": [
    {
     "data": {
      "text/plain": [
       "20"
      ]
     },
     "execution_count": 4,
     "metadata": {},
     "output_type": "execute_result"
    }
   ],
   "source": [
    "# this is a comment\n",
    "# Author: Ardy\n",
    "10 + 10 # solve the equation"
   ]
  },
  {
   "cell_type": "markdown",
   "id": "92e4dcbd-ae5d-4fe8-b2c0-c494fb605ca8",
   "metadata": {},
   "source": [
    "## Basic Data Types\n",
    "- An **integer** is a whole number.\n",
    "- A **floating-point** number is one with a fractional or decimal component.\n",
    "- A **string** is a piece of text. It's a collection of characters.\n",
    "- An **empty string** has a length of 0 characters.\n",
    "- A **Boolean** is a type whose value can only be True or False.\n",
    "- **None** is a special Python type that represents nothingness, blankness, or the absence of a value.\n",
    "- The operations that can be performed on a value depend on its type. There are functionalities that we can do with strings but not numbers, and vice versa."
   ]
  },
  {
   "cell_type": "code",
   "execution_count": 5,
   "id": "4bdbe3fa",
   "metadata": {},
   "outputs": [
    {
     "data": {
      "text/plain": [
       "0"
      ]
     },
     "execution_count": 5,
     "metadata": {},
     "output_type": "execute_result"
    }
   ],
   "source": [
    "# Integers - whole number\n",
    "5\n",
    "10\n",
    "-23\n",
    "0"
   ]
  },
  {
   "cell_type": "code",
   "execution_count": 6,
   "id": "f3fa5ce3",
   "metadata": {},
   "outputs": [
    {
     "data": {
      "text/plain": [
       "-113.23819"
      ]
     },
     "execution_count": 6,
     "metadata": {},
     "output_type": "execute_result"
    }
   ],
   "source": [
    "# Floating-point - number with a decimal/fractional component\n",
    "3.14\n",
    "3.14159\n",
    "9.99\n",
    "-113.23819"
   ]
  },
  {
   "cell_type": "code",
   "execution_count": 7,
   "id": "261e3b10",
   "metadata": {},
   "outputs": [
    {
     "data": {
      "text/plain": [
       "'123 abc !@#$%^'"
      ]
     },
     "execution_count": 7,
     "metadata": {},
     "output_type": "execute_result"
    }
   ],
   "source": [
    "# String - a piece of text, collection of characters\n",
    "\"Ardy\"\n",
    "\"123 abc !@#$%^\""
   ]
  },
  {
   "cell_type": "code",
   "execution_count": 8,
   "id": "1a8ad7f3",
   "metadata": {},
   "outputs": [
    {
     "data": {
      "text/plain": [
       "144.14000000000001"
      ]
     },
     "execution_count": 8,
     "metadata": {},
     "output_type": "execute_result"
    }
   ],
   "source": [
    "139.99 + 4.15\n"
   ]
  },
  {
   "cell_type": "code",
   "execution_count": 9,
   "id": "f3c87287-12a7-41a7-b8d1-b6d64679a47f",
   "metadata": {},
   "outputs": [
    {
     "ename": "TypeError",
     "evalue": "unsupported operand type(s) for +: 'float' and 'str'",
     "output_type": "error",
     "traceback": [
      "\u001b[31m---------------------------------------------------------------------------\u001b[39m",
      "\u001b[31mTypeError\u001b[39m                                 Traceback (most recent call last)",
      "\u001b[36mCell\u001b[39m\u001b[36m \u001b[39m\u001b[32mIn[9]\u001b[39m\u001b[32m, line 1\u001b[39m\n\u001b[32m----> \u001b[39m\u001b[32m1\u001b[39m \u001b[32;43m139.99\u001b[39;49m\u001b[43m \u001b[49m\u001b[43m+\u001b[49m\u001b[43m \u001b[49m\u001b[33;43m\"\u001b[39;49m\u001b[33;43m4.15\u001b[39;49m\u001b[33;43m\"\u001b[39;49m\n",
      "\u001b[31mTypeError\u001b[39m: unsupported operand type(s) for +: 'float' and 'str'"
     ]
    }
   ],
   "source": [
    "139.99 + \"4.15\" # TypeError: unsupported operand type(s) for +: 'float' and 'str'"
   ]
  },
  {
   "cell_type": "code",
   "execution_count": 10,
   "id": "9270bd16-016f-4d42-9890-5fa3e845be65",
   "metadata": {},
   "outputs": [
    {
     "data": {
      "text/plain": [
       "''"
      ]
     },
     "execution_count": 10,
     "metadata": {},
     "output_type": "execute_result"
    }
   ],
   "source": [
    "# Empty string - a string without characters\n",
    "\"\""
   ]
  },
  {
   "cell_type": "code",
   "execution_count": 11,
   "id": "7e545cb3-97a1-4faa-90f2-8b56b541a663",
   "metadata": {},
   "outputs": [
    {
     "data": {
      "text/plain": [
       "False"
      ]
     },
     "execution_count": 11,
     "metadata": {},
     "output_type": "execute_result"
    }
   ],
   "source": [
    "# Boolean - George Boole\n",
    "True\n",
    "False"
   ]
  },
  {
   "cell_type": "code",
   "execution_count": 12,
   "id": "882a9c10-afba-42b1-9ec6-bece3fab0992",
   "metadata": {},
   "outputs": [
    {
     "data": {
      "text/plain": [
       "True"
      ]
     },
     "execution_count": 12,
     "metadata": {},
     "output_type": "execute_result"
    }
   ],
   "source": [
    "5<7"
   ]
  },
  {
   "cell_type": "code",
   "execution_count": 14,
   "id": "939bdf3f-d6c5-4ab6-8fd6-b513722c815b",
   "metadata": {},
   "outputs": [
    {
     "data": {
      "text/plain": [
       "False"
      ]
     },
     "execution_count": 14,
     "metadata": {},
     "output_type": "execute_result"
    }
   ],
   "source": [
    "10>20"
   ]
  },
  {
   "cell_type": "code",
   "execution_count": 15,
   "id": "7a37dfbb-9ffc-4836-9b12-ca62d4c197ba",
   "metadata": {},
   "outputs": [],
   "source": [
    "# None - a type that represents absence/nullness/ a value missing\n",
    "None"
   ]
  },
  {
   "cell_type": "code",
   "execution_count": null,
   "id": "8cdc7da1-07bf-48bb-ac38-aa6385a92f30",
   "metadata": {},
   "outputs": [],
   "source": []
  },
  {
   "cell_type": "code",
   "execution_count": null,
   "id": "80fa3abb-637e-4775-892e-aa0b5fadb851",
   "metadata": {},
   "outputs": [],
   "source": []
  },
  {
   "cell_type": "code",
   "execution_count": null,
   "id": "bb13b2b8-5100-4227-8e1e-e821352fd85e",
   "metadata": {},
   "outputs": [],
   "source": []
  },
  {
   "cell_type": "markdown",
   "id": "3271e1b9",
   "metadata": {},
   "source": [
    "## Operators\n",
    "- An **operator** is a symbol that performs an operation (mathematical, logical, etc).\n",
    "- Python supports all traditional mathematical operation - `+` for addition, `-` for subtraction, `*` for multiplication, and `/` for division.\n",
    "- The floor division operator (`//`) leaves off the floating point portion of a division result.\n",
    "- The `+` operator performs concatenation when used with strings.\n",
    "- The equality operator (`==`) returns True if two values are equal to each other.\n",
    "- The inequality operator (`!=`) returns True if two values are unequal to each other."
   ]
  },
  {
   "cell_type": "code",
   "execution_count": 19,
   "id": "18c1be1f",
   "metadata": {},
   "outputs": [
    {
     "data": {
      "text/plain": [
       "15.23"
      ]
     },
     "execution_count": 19,
     "metadata": {},
     "output_type": "execute_result"
    }
   ],
   "source": [
    "5 + 3\n",
    "3.14 + 7.96\n",
    "5 + 10.23"
   ]
  },
  {
   "cell_type": "code",
   "execution_count": 20,
   "id": "976f03ae-e196-4726-8762-079aa0db7e43",
   "metadata": {
    "tags": []
   },
   "outputs": [
    {
     "data": {
      "text/plain": [
       "'racecar'"
      ]
     },
     "execution_count": 20,
     "metadata": {},
     "output_type": "execute_result"
    }
   ],
   "source": [
    "# Concatenation - combining two strings together\n",
    "\"race\" + \"car\""
   ]
  },
  {
   "cell_type": "code",
   "execution_count": 22,
   "id": "66a67875-de12-4f73-a235-8d93472e8599",
   "metadata": {
    "tags": []
   },
   "outputs": [],
   "source": [
    "# \"race\" + 5 #TypeError: can only concatenate str (not \"int\") to str"
   ]
  },
  {
   "cell_type": "code",
   "execution_count": 23,
   "id": "58b969aa-77b8-4bb9-a108-d345e7fb760c",
   "metadata": {
    "tags": []
   },
   "outputs": [
    {
     "data": {
      "text/plain": [
       "5"
      ]
     },
     "execution_count": 23,
     "metadata": {},
     "output_type": "execute_result"
    }
   ],
   "source": [
    "10-5"
   ]
  },
  {
   "cell_type": "code",
   "execution_count": 24,
   "id": "5054b8ca-f00d-45b6-b283-2836b2771ef8",
   "metadata": {
    "tags": []
   },
   "outputs": [
    {
     "data": {
      "text/plain": [
       "12"
      ]
     },
     "execution_count": 24,
     "metadata": {},
     "output_type": "execute_result"
    }
   ],
   "source": [
    "4*3"
   ]
  },
  {
   "cell_type": "code",
   "execution_count": 26,
   "id": "0ba77ba9-43b6-46d6-8118-509a1d3eda48",
   "metadata": {
    "tags": []
   },
   "outputs": [
    {
     "data": {
      "text/plain": [
       "'AbcAbcAbcAbcAbcAbcAbcAbcAbcAbc'"
      ]
     },
     "execution_count": 26,
     "metadata": {},
     "output_type": "execute_result"
    }
   ],
   "source": [
    "\"Abc\" * 10"
   ]
  },
  {
   "cell_type": "code",
   "execution_count": 27,
   "id": "e4bc6e3b-3393-4dc0-b02b-cf040fb88c32",
   "metadata": {
    "tags": []
   },
   "outputs": [
    {
     "data": {
      "text/plain": [
       "23"
      ]
     },
     "execution_count": 27,
     "metadata": {},
     "output_type": "execute_result"
    }
   ],
   "source": [
    "# PEMDAS - Parentheses, Exponents, Multiplication/Division, Addition/Subtraction\n",
    "3+4*5"
   ]
  },
  {
   "cell_type": "code",
   "execution_count": 28,
   "id": "235b7338-b7e2-4e1a-84f9-53a15eb7e7a5",
   "metadata": {
    "tags": []
   },
   "outputs": [
    {
     "data": {
      "text/plain": [
       "35"
      ]
     },
     "execution_count": 28,
     "metadata": {},
     "output_type": "execute_result"
    }
   ],
   "source": [
    "(3+4)*5"
   ]
  },
  {
   "cell_type": "code",
   "execution_count": 29,
   "id": "59b1b107-89c3-48f2-a29a-2a078ea73aa6",
   "metadata": {
    "tags": []
   },
   "outputs": [
    {
     "data": {
      "text/plain": [
       "3.75"
      ]
     },
     "execution_count": 29,
     "metadata": {},
     "output_type": "execute_result"
    }
   ],
   "source": [
    "15/4"
   ]
  },
  {
   "cell_type": "code",
   "execution_count": 31,
   "id": "b3897e59-3505-43e5-b86f-2f30c8346d35",
   "metadata": {
    "tags": []
   },
   "outputs": [
    {
     "data": {
      "text/plain": [
       "3"
      ]
     },
     "execution_count": 31,
     "metadata": {},
     "output_type": "execute_result"
    }
   ],
   "source": [
    "# Floor division - leaves out the floating-point\n",
    "10 // 3"
   ]
  },
  {
   "cell_type": "code",
   "execution_count": 33,
   "id": "7b602230",
   "metadata": {},
   "outputs": [
    {
     "data": {
      "text/plain": [
       "3.3333333333333335"
      ]
     },
     "execution_count": 33,
     "metadata": {},
     "output_type": "execute_result"
    }
   ],
   "source": [
    "10/3"
   ]
  },
  {
   "cell_type": "code",
   "execution_count": 34,
   "id": "ce22922e",
   "metadata": {},
   "outputs": [
    {
     "data": {
      "text/plain": [
       "2"
      ]
     },
     "execution_count": 34,
     "metadata": {},
     "output_type": "execute_result"
    }
   ],
   "source": [
    "# Modulo operator - returns the reminder of a division\n",
    "14 % 3"
   ]
  },
  {
   "cell_type": "code",
   "execution_count": 35,
   "id": "1e79878a",
   "metadata": {},
   "outputs": [
    {
     "data": {
      "text/plain": [
       "1"
      ]
     },
     "execution_count": 35,
     "metadata": {},
     "output_type": "execute_result"
    }
   ],
   "source": [
    "13 % 3"
   ]
  },
  {
   "cell_type": "code",
   "execution_count": 36,
   "id": "9312e980",
   "metadata": {},
   "outputs": [
    {
     "data": {
      "text/plain": [
       "True"
      ]
     },
     "execution_count": 36,
     "metadata": {},
     "output_type": "execute_result"
    }
   ],
   "source": [
    "# Equality operator - check if two values are equal\n",
    "1 == 1"
   ]
  },
  {
   "cell_type": "code",
   "execution_count": 37,
   "id": "193b739a",
   "metadata": {},
   "outputs": [
    {
     "data": {
      "text/plain": [
       "False"
      ]
     },
     "execution_count": 37,
     "metadata": {},
     "output_type": "execute_result"
    }
   ],
   "source": [
    "1 == 2"
   ]
  },
  {
   "cell_type": "code",
   "execution_count": 38,
   "id": "a1419d28",
   "metadata": {},
   "outputs": [
    {
     "data": {
      "text/plain": [
       "True"
      ]
     },
     "execution_count": 38,
     "metadata": {},
     "output_type": "execute_result"
    }
   ],
   "source": [
    "5 == 5.0"
   ]
  },
  {
   "cell_type": "code",
   "execution_count": 39,
   "id": "3292f809",
   "metadata": {},
   "outputs": [
    {
     "data": {
      "text/plain": [
       "True"
      ]
     },
     "execution_count": 39,
     "metadata": {},
     "output_type": "execute_result"
    }
   ],
   "source": [
    "\"Hello\" == \"Hello\""
   ]
  },
  {
   "cell_type": "code",
   "execution_count": 40,
   "id": "ca937e36",
   "metadata": {},
   "outputs": [
    {
     "data": {
      "text/plain": [
       "False"
      ]
     },
     "execution_count": 40,
     "metadata": {},
     "output_type": "execute_result"
    }
   ],
   "source": [
    "\"hello\" == \"Hello\""
   ]
  },
  {
   "cell_type": "code",
   "execution_count": 41,
   "id": "192fd171-af47-4be0-a321-8b7980ba71e6",
   "metadata": {},
   "outputs": [
    {
     "data": {
      "text/plain": [
       "True"
      ]
     },
     "execution_count": 41,
     "metadata": {},
     "output_type": "execute_result"
    }
   ],
   "source": [
    "True == True"
   ]
  },
  {
   "cell_type": "code",
   "execution_count": 42,
   "id": "a0ef7c42-072f-435b-adb6-b4c2e7ec53b5",
   "metadata": {},
   "outputs": [
    {
     "data": {
      "text/plain": [
       "False"
      ]
     },
     "execution_count": 42,
     "metadata": {},
     "output_type": "execute_result"
    }
   ],
   "source": [
    "True == False"
   ]
  },
  {
   "cell_type": "code",
   "execution_count": 43,
   "id": "2ec24a35-1d85-4e3d-b023-7b7507336fb8",
   "metadata": {},
   "outputs": [
    {
     "data": {
      "text/plain": [
       "True"
      ]
     },
     "execution_count": 43,
     "metadata": {},
     "output_type": "execute_result"
    }
   ],
   "source": [
    "False == False"
   ]
  },
  {
   "cell_type": "code",
   "execution_count": 44,
   "id": "184f36c2-f037-4aac-8033-0bf7a8a24337",
   "metadata": {},
   "outputs": [
    {
     "data": {
      "text/plain": [
       "False"
      ]
     },
     "execution_count": 44,
     "metadata": {},
     "output_type": "execute_result"
    }
   ],
   "source": [
    "False == True"
   ]
  },
  {
   "cell_type": "code",
   "execution_count": 45,
   "id": "9c96e8f3-74ed-4e80-8a9a-c72865e2f8a0",
   "metadata": {},
   "outputs": [
    {
     "data": {
      "text/plain": [
       "True"
      ]
     },
     "execution_count": 45,
     "metadata": {},
     "output_type": "execute_result"
    }
   ],
   "source": [
    "# Inequality operator - checks if two values are NOT equal\n",
    "# !=\n",
    "\n",
    "5 != 10"
   ]
  },
  {
   "cell_type": "code",
   "execution_count": 46,
   "id": "93bffd3f-555c-46ae-9d67-dab0dcedac69",
   "metadata": {},
   "outputs": [
    {
     "data": {
      "text/plain": [
       "False"
      ]
     },
     "execution_count": 46,
     "metadata": {},
     "output_type": "execute_result"
    }
   ],
   "source": [
    "5 != 5"
   ]
  },
  {
   "cell_type": "code",
   "execution_count": 47,
   "id": "5556280a",
   "metadata": {},
   "outputs": [
    {
     "data": {
      "text/plain": [
       "False"
      ]
     },
     "execution_count": 47,
     "metadata": {},
     "output_type": "execute_result"
    }
   ],
   "source": [
    "\"Hello\" != \"Hello\""
   ]
  },
  {
   "cell_type": "code",
   "execution_count": 48,
   "id": "c9616ec9-6378-40d5-a450-faa5685beb19",
   "metadata": {},
   "outputs": [
    {
     "data": {
      "text/plain": [
       "True"
      ]
     },
     "execution_count": 48,
     "metadata": {},
     "output_type": "execute_result"
    }
   ],
   "source": [
    "\"hello\" != \"Hello\""
   ]
  },
  {
   "cell_type": "code",
   "execution_count": 49,
   "id": "9a515843-c77c-4777-87e5-9cd8e1dd47f7",
   "metadata": {},
   "outputs": [
    {
     "data": {
      "text/plain": [
       "True"
      ]
     },
     "execution_count": 49,
     "metadata": {},
     "output_type": "execute_result"
    }
   ],
   "source": [
    "5 < 8"
   ]
  },
  {
   "cell_type": "code",
   "execution_count": 50,
   "id": "f5511a22-631a-4811-a970-6339eee4a767",
   "metadata": {},
   "outputs": [
    {
     "data": {
      "text/plain": [
       "True"
      ]
     },
     "execution_count": 50,
     "metadata": {},
     "output_type": "execute_result"
    }
   ],
   "source": [
    "5 <= 8"
   ]
  },
  {
   "cell_type": "code",
   "execution_count": 51,
   "id": "73bf24c1-9435-4fbb-924f-ddfa616f9d02",
   "metadata": {},
   "outputs": [
    {
     "data": {
      "text/plain": [
       "False"
      ]
     },
     "execution_count": 51,
     "metadata": {},
     "output_type": "execute_result"
    }
   ],
   "source": [
    "10 <= 8"
   ]
  },
  {
   "cell_type": "code",
   "execution_count": 52,
   "id": "c23f800d-0096-4109-8b5a-6ac242363bab",
   "metadata": {},
   "outputs": [
    {
     "data": {
      "text/plain": [
       "True"
      ]
     },
     "execution_count": 52,
     "metadata": {},
     "output_type": "execute_result"
    }
   ],
   "source": [
    "14 >= 9"
   ]
  },
  {
   "cell_type": "code",
   "execution_count": null,
   "id": "d50ff0d0-0222-4f4e-89ca-657fa7da2c5a",
   "metadata": {},
   "outputs": [],
   "source": []
  },
  {
   "cell_type": "markdown",
   "id": "a7bc67a9",
   "metadata": {},
   "source": [
    "## Variables\n",
    "- A **variable** is a name for a value in your program. It is a placeholder for the value.\n",
    "- The value that a variable represents can *vary* over a program.\n",
    "- Multi-word variable names should follow a `snake_case` naming convention.\n",
    "- Python evaluates the right-hand side of an equal sign first.\n",
    "- The `len` function returns the length of its argument."
   ]
  },
  {
   "cell_type": "code",
   "execution_count": 2,
   "id": "06765506-d200-4b47-a2e4-0e189cd00f89",
   "metadata": {
    "tags": []
   },
   "outputs": [],
   "source": [
    "age = 25"
   ]
  },
  {
   "cell_type": "code",
   "execution_count": 54,
   "id": "14046d65-15b2-4f5a-a33d-1cf4519a527b",
   "metadata": {
    "tags": []
   },
   "outputs": [
    {
     "data": {
      "text/plain": [
       "30"
      ]
     },
     "execution_count": 54,
     "metadata": {},
     "output_type": "execute_result"
    }
   ],
   "source": [
    "age + 5"
   ]
  },
  {
   "cell_type": "code",
   "execution_count": 55,
   "id": "71137fe3-fb6a-405a-a14a-1bb9fd1fb4a1",
   "metadata": {
    "tags": []
   },
   "outputs": [],
   "source": [
    "price = 19.99\n",
    "profession = \"Software Engineer\"\n",
    "\n",
    "# snake_case_formatting\n",
    "first_name_of_person = \"Ardy\""
   ]
  },
  {
   "cell_type": "code",
   "execution_count": 56,
   "id": "2067023e-a2dd-4266-94f1-742808895ead",
   "metadata": {
    "tags": []
   },
   "outputs": [
    {
     "data": {
      "text/plain": [
       "'Ardy'"
      ]
     },
     "execution_count": 56,
     "metadata": {},
     "output_type": "execute_result"
    }
   ],
   "source": [
    "first_name_of_person"
   ]
  },
  {
   "cell_type": "code",
   "execution_count": 57,
   "id": "cf90303d-a5f2-49bd-ac19-75c43c79ccfa",
   "metadata": {
    "tags": []
   },
   "outputs": [],
   "source": [
    "is_handsome = True"
   ]
  },
  {
   "cell_type": "code",
   "execution_count": 63,
   "id": "314b01d0-f87b-4fc7-93a2-6b0da642c242",
   "metadata": {
    "tags": []
   },
   "outputs": [
    {
     "data": {
      "text/plain": [
       "'Ardy the devs'"
      ]
     },
     "execution_count": 63,
     "metadata": {},
     "output_type": "execute_result"
    }
   ],
   "source": [
    "first_name_of_person + \" the devs\""
   ]
  },
  {
   "cell_type": "code",
   "execution_count": 64,
   "id": "005dcb9a-0757-477a-ab55-70bb13a1d557",
   "metadata": {
    "tags": []
   },
   "outputs": [],
   "source": [
    "profession = \"Python Developer\""
   ]
  },
  {
   "cell_type": "code",
   "execution_count": 65,
   "id": "33abb053-dd3d-4f22-905d-3d54d4e4d8c3",
   "metadata": {
    "tags": []
   },
   "outputs": [
    {
     "data": {
      "text/plain": [
       "'Python Developer'"
      ]
     },
     "execution_count": 65,
     "metadata": {},
     "output_type": "execute_result"
    }
   ],
   "source": [
    "profession"
   ]
  },
  {
   "cell_type": "code",
   "execution_count": 66,
   "id": "045c3eff-d119-42b0-a23c-c9a81d808b42",
   "metadata": {
    "tags": []
   },
   "outputs": [
    {
     "data": {
      "text/plain": [
       "25"
      ]
     },
     "execution_count": 66,
     "metadata": {},
     "output_type": "execute_result"
    }
   ],
   "source": [
    "age"
   ]
  },
  {
   "cell_type": "code",
   "execution_count": 4,
   "id": "1c60601b-3868-4801-83f4-738c617ec471",
   "metadata": {},
   "outputs": [],
   "source": [
    "age = age +5"
   ]
  },
  {
   "cell_type": "code",
   "execution_count": 5,
   "id": "db847ff6-dc93-4d31-8f80-edc4c1d46221",
   "metadata": {},
   "outputs": [
    {
     "data": {
      "text/plain": [
       "30"
      ]
     },
     "execution_count": 5,
     "metadata": {},
     "output_type": "execute_result"
    }
   ],
   "source": [
    "age"
   ]
  },
  {
   "cell_type": "code",
   "execution_count": null,
   "id": "6ea101d4-b767-4735-ada2-92ec3caa6db4",
   "metadata": {},
   "outputs": [],
   "source": []
  },
  {
   "cell_type": "code",
   "execution_count": null,
   "id": "aac0aeb7-3398-4314-be11-b1960f6fe257",
   "metadata": {},
   "outputs": [],
   "source": []
  },
  {
   "cell_type": "markdown",
   "id": "42d67a50",
   "metadata": {},
   "source": [
    "## Built-in Functions\n",
    "- A **function** is a repeatable procedure.\n",
    "- A **function** can accept inputs (which are called **arguments**).\n",
    "- A **function** produces a **return value**, which is the \"output\" of the function.\n",
    "- The technical term for running/executing a function is \"invoking\" or \"calling\".\n",
    "- Invoke a function with a pair of parentheses.\n",
    "- The `len` function returns the length of its argument.\n",
    "- The `str` function converts its argument to a string.\n",
    "- The `int` function converts its argument to an integer.\n",
    "- The `float` function converts its argument to a floating-point.\n",
    "- The `type` function returns the type of its argument (the kind of value it is)."
   ]
  },
  {
   "cell_type": "code",
   "execution_count": 13,
   "id": "c876360e-9043-458c-a10e-97815c43eb2f",
   "metadata": {
    "tags": []
   },
   "outputs": [
    {
     "data": {
      "text/plain": [
       "24"
      ]
     },
     "execution_count": 13,
     "metadata": {},
     "output_type": "execute_result"
    }
   ],
   "source": [
    "len(\"Ardy is a good developer\")"
   ]
  },
  {
   "cell_type": "code",
   "execution_count": 7,
   "id": "54c11642-a975-43c5-938c-83b173c1ef16",
   "metadata": {
    "tags": []
   },
   "outputs": [
    {
     "data": {
      "text/plain": [
       "'25'"
      ]
     },
     "execution_count": 7,
     "metadata": {},
     "output_type": "execute_result"
    }
   ],
   "source": [
    "str(25)"
   ]
  },
  {
   "cell_type": "code",
   "execution_count": 8,
   "id": "686e22fa-67a7-481b-8689-23f73f812ead",
   "metadata": {
    "tags": []
   },
   "outputs": [
    {
     "data": {
      "text/plain": [
       "25"
      ]
     },
     "execution_count": 8,
     "metadata": {},
     "output_type": "execute_result"
    }
   ],
   "source": [
    "int(\"25\")"
   ]
  },
  {
   "cell_type": "code",
   "execution_count": 9,
   "id": "f8cd75b3-0ee2-490b-9c80-6af66456811d",
   "metadata": {
    "tags": []
   },
   "outputs": [
    {
     "data": {
      "text/plain": [
       "25.0"
      ]
     },
     "execution_count": 9,
     "metadata": {},
     "output_type": "execute_result"
    }
   ],
   "source": [
    "float(\"25\")"
   ]
  },
  {
   "cell_type": "code",
   "execution_count": 10,
   "id": "270c8bf5-4523-4b25-a73b-15769307fad4",
   "metadata": {
    "tags": []
   },
   "outputs": [
    {
     "data": {
      "text/plain": [
       "str"
      ]
     },
     "execution_count": 10,
     "metadata": {},
     "output_type": "execute_result"
    }
   ],
   "source": [
    "type(\"25\")"
   ]
  },
  {
   "cell_type": "code",
   "execution_count": 11,
   "id": "5b7ffcbb-4720-42cc-b9a3-8cfefe013366",
   "metadata": {
    "tags": []
   },
   "outputs": [
    {
     "data": {
      "text/plain": [
       "float"
      ]
     },
     "execution_count": 11,
     "metadata": {},
     "output_type": "execute_result"
    }
   ],
   "source": [
    "type(25.0)"
   ]
  },
  {
   "cell_type": "code",
   "execution_count": 14,
   "id": "4405f39f-ea86-4561-83b2-a1b6b8efdc56",
   "metadata": {
    "tags": []
   },
   "outputs": [
    {
     "data": {
      "text/plain": [
       "bool"
      ]
     },
     "execution_count": 14,
     "metadata": {},
     "output_type": "execute_result"
    }
   ],
   "source": [
    "type(True)"
   ]
  },
  {
   "cell_type": "code",
   "execution_count": null,
   "id": "9c9cad2c-7cb1-48b4-a377-b44087847b2b",
   "metadata": {},
   "outputs": [],
   "source": []
  },
  {
   "cell_type": "markdown",
   "id": "cf976284",
   "metadata": {},
   "source": [
    "## Custom Functions\n",
    "- Define a function with the `def` keyword, a name, a parameter list, and a colon.\n",
    "- Functions names should follow a `snake_case` naming convention.\n",
    "- A **parameter** is a name for an expected input.\n",
    "- Write the function's logic inside a nested block. The end of the block marks the end of the function logic.\n",
    "- Variables declared inside a function body will only last as long as the function runs.\n",
    "- Use the **return** keyword to specify the function's return value (output).\n",
    "- When invoking a function, we can pass in argument sequentially or with explicit parameter names.\n",
    "- A **default argument** is a fallback value that Python will provide if an argument is not passed for a parameter during invocation."
   ]
  },
  {
   "cell_type": "code",
   "execution_count": 15,
   "id": "5b251bcf",
   "metadata": {},
   "outputs": [],
   "source": [
    "# Declare a function that accepts a temperature in Celcius and returns it in Fahrenheit\n",
    "\n",
    "def celcius_to_fahrenheit(value):\n",
    "    return value * (9/5) + 32\n",
    "    "
   ]
  },
  {
   "cell_type": "code",
   "execution_count": 17,
   "id": "50ef6f0a-a9d2-4e03-8c2a-570246d34729",
   "metadata": {},
   "outputs": [
    {
     "data": {
      "text/plain": [
       "41.0"
      ]
     },
     "execution_count": 17,
     "metadata": {},
     "output_type": "execute_result"
    }
   ],
   "source": [
    "celcius_to_fahrenheit(5)"
   ]
  },
  {
   "cell_type": "code",
   "execution_count": 20,
   "id": "56b074bc-6296-43a1-8d0b-317685d9972c",
   "metadata": {},
   "outputs": [
    {
     "data": {
      "text/plain": [
       "57.2"
      ]
     },
     "execution_count": 20,
     "metadata": {},
     "output_type": "execute_result"
    }
   ],
   "source": [
    "celcius_to_fahrenheit(14)"
   ]
  },
  {
   "cell_type": "code",
   "execution_count": 19,
   "id": "1c2c70f9-1d83-45c7-89c2-b507a634592c",
   "metadata": {},
   "outputs": [
    {
     "data": {
      "text/plain": [
       "32.0"
      ]
     },
     "execution_count": 19,
     "metadata": {},
     "output_type": "execute_result"
    }
   ],
   "source": [
    "celcius_to_fahrenheit(0)"
   ]
  },
  {
   "cell_type": "code",
   "execution_count": null,
   "id": "b09d7e78-ab58-4597-bff7-b2f498129d94",
   "metadata": {},
   "outputs": [],
   "source": []
  },
  {
   "cell_type": "markdown",
   "id": "7875f148",
   "metadata": {},
   "source": [
    "## String Methods\n",
    "- An **object** is the technical term for a type. A string is an example of an object.\n",
    "- A **method** is like a function that belongs to an object.\n",
    "- To invoke a method, provide a period after the object, then the method name and a pair of parentheses.\n",
    "- We use similar terminology and syntax for functions and methods. We can invoke methods. We can pass arguments to methods. Methods can return values.\n",
    "- Objects can be **mutable** (capable of change) or **immutable** (incapable of change). A string is immutable.\n",
    "- Common string methods include `upper`, `lower`, `swapcase`, `title`, `capitalize`, and `strip`.\n",
    "- **Method chaining** refers to invoking methods on objects returned by previous method invocations. We create a link or \"chain\" of methods.\n",
    "- The **in** and **not in** keywords check for the presence and absence of a substring within a string."
   ]
  },
  {
   "cell_type": "code",
   "execution_count": 1,
   "id": "dc957854-a26c-4e7f-86bf-7d751f8529e8",
   "metadata": {},
   "outputs": [],
   "source": [
    "profession = \"Python Developer\""
   ]
  },
  {
   "cell_type": "code",
   "execution_count": 2,
   "id": "b1a69a51-ec83-49fa-8488-d3079fbde6cc",
   "metadata": {},
   "outputs": [
    {
     "data": {
      "text/plain": [
       "'PYTHON DEVELOPER'"
      ]
     },
     "execution_count": 2,
     "metadata": {},
     "output_type": "execute_result"
    }
   ],
   "source": [
    "profession.upper()"
   ]
  },
  {
   "cell_type": "code",
   "execution_count": 3,
   "id": "105a1f30-ad2b-4038-8a39-e47a62c6cf9c",
   "metadata": {},
   "outputs": [
    {
     "data": {
      "text/plain": [
       "'python developer'"
      ]
     },
     "execution_count": 3,
     "metadata": {},
     "output_type": "execute_result"
    }
   ],
   "source": [
    "profession.lower()"
   ]
  },
  {
   "cell_type": "code",
   "execution_count": 4,
   "id": "53f28ef6-d203-47b0-8da7-baf6e7f33bfe",
   "metadata": {},
   "outputs": [
    {
     "data": {
      "text/plain": [
       "'pYTHON dEVELOPER'"
      ]
     },
     "execution_count": 4,
     "metadata": {},
     "output_type": "execute_result"
    }
   ],
   "source": [
    "profession.swapcase()"
   ]
  },
  {
   "cell_type": "code",
   "execution_count": 5,
   "id": "4a89acb2-4c9c-4bab-b9cf-af52a6b0938e",
   "metadata": {},
   "outputs": [
    {
     "data": {
      "text/plain": [
       "'Python developer'"
      ]
     },
     "execution_count": 5,
     "metadata": {},
     "output_type": "execute_result"
    }
   ],
   "source": [
    "profession.capitalize()"
   ]
  },
  {
   "cell_type": "code",
   "execution_count": 6,
   "id": "d539954f-0d9b-4674-b197-a06e116ea612",
   "metadata": {},
   "outputs": [
    {
     "data": {
      "text/plain": [
       "'Once Upon A Time'"
      ]
     },
     "execution_count": 6,
     "metadata": {},
     "output_type": "execute_result"
    }
   ],
   "source": [
    "\"once upon a time\".title()"
   ]
  },
  {
   "cell_type": "code",
   "execution_count": 7,
   "id": "86c7dfe0-df88-4079-a9dc-605321e905fc",
   "metadata": {},
   "outputs": [
    {
     "data": {
      "text/plain": [
       "'Once upon a time'"
      ]
     },
     "execution_count": 7,
     "metadata": {},
     "output_type": "execute_result"
    }
   ],
   "source": [
    "\"once upon a time\".capitalize()"
   ]
  },
  {
   "cell_type": "code",
   "execution_count": 8,
   "id": "5a42583c-3a12-48ff-aaa0-d2a2f1fdc39c",
   "metadata": {},
   "outputs": [],
   "source": [
    "profession = \"       Python Developer     \""
   ]
  },
  {
   "cell_type": "code",
   "execution_count": 9,
   "id": "195c7907-9490-4549-bda4-efe7cc3f15b0",
   "metadata": {},
   "outputs": [
    {
     "data": {
      "text/plain": [
       "'Python Developer     '"
      ]
     },
     "execution_count": 9,
     "metadata": {},
     "output_type": "execute_result"
    }
   ],
   "source": [
    "profession.lstrip()"
   ]
  },
  {
   "cell_type": "code",
   "execution_count": 10,
   "id": "f5125f4c-edd2-4d20-8616-21811e8c0fde",
   "metadata": {},
   "outputs": [
    {
     "data": {
      "text/plain": [
       "'       Python Developer'"
      ]
     },
     "execution_count": 10,
     "metadata": {},
     "output_type": "execute_result"
    }
   ],
   "source": [
    "profession.rstrip()"
   ]
  },
  {
   "cell_type": "code",
   "execution_count": 15,
   "id": "b6636917-4556-4b28-b3f7-d15d738a8a3a",
   "metadata": {},
   "outputs": [
    {
     "data": {
      "text/plain": [
       "'python developer'"
      ]
     },
     "execution_count": 15,
     "metadata": {},
     "output_type": "execute_result"
    }
   ],
   "source": [
    "profession.lstrip().rstrip().lower()"
   ]
  },
  {
   "cell_type": "code",
   "execution_count": 14,
   "id": "5a83ae5a-bfa3-4f63-bde7-fbf4c34ade8e",
   "metadata": {},
   "outputs": [
    {
     "data": {
      "text/plain": [
       "'Python Developer'"
      ]
     },
     "execution_count": 14,
     "metadata": {},
     "output_type": "execute_result"
    }
   ],
   "source": [
    "profession.strip()"
   ]
  },
  {
   "cell_type": "code",
   "execution_count": 16,
   "id": "710a5353-1f4d-499a-a983-5c6f8701ac11",
   "metadata": {},
   "outputs": [
    {
     "data": {
      "text/plain": [
       "'       Python D*v*lop*r     '"
      ]
     },
     "execution_count": 16,
     "metadata": {},
     "output_type": "execute_result"
    }
   ],
   "source": [
    "profession.replace(\"e\", \"*\")"
   ]
  },
  {
   "cell_type": "code",
   "execution_count": 17,
   "id": "cafbda47-8877-4825-bbf6-667dc63d099f",
   "metadata": {},
   "outputs": [
    {
     "data": {
      "text/plain": [
       "'Python D*v*lop*r'"
      ]
     },
     "execution_count": 17,
     "metadata": {},
     "output_type": "execute_result"
    }
   ],
   "source": [
    "profession.strip().replace(\"e\", \"*\")"
   ]
  },
  {
   "cell_type": "code",
   "execution_count": 18,
   "id": "4ffadd50-0fe4-4ac3-9ee3-f1fa59047bb3",
   "metadata": {},
   "outputs": [
    {
     "data": {
      "text/plain": [
       "True"
      ]
     },
     "execution_count": 18,
     "metadata": {},
     "output_type": "execute_result"
    }
   ],
   "source": [
    "profession.strip().startswith(\"P\")"
   ]
  },
  {
   "cell_type": "code",
   "execution_count": 19,
   "id": "0af3c3a5-e09b-4213-8bf8-a08ddb105b22",
   "metadata": {},
   "outputs": [
    {
     "data": {
      "text/plain": [
       "False"
      ]
     },
     "execution_count": 19,
     "metadata": {},
     "output_type": "execute_result"
    }
   ],
   "source": [
    "profession.strip().startswith(\"p\")"
   ]
  },
  {
   "cell_type": "code",
   "execution_count": 20,
   "id": "ec16e8a0-0cdc-46d3-ac0d-7227c54a4b1b",
   "metadata": {},
   "outputs": [
    {
     "data": {
      "text/plain": [
       "True"
      ]
     },
     "execution_count": 20,
     "metadata": {},
     "output_type": "execute_result"
    }
   ],
   "source": [
    "profession.strip().startswith(\"Pyt\")"
   ]
  },
  {
   "cell_type": "code",
   "execution_count": 21,
   "id": "6f9dc984-440b-4bce-a8e3-1b36b86c5ac3",
   "metadata": {},
   "outputs": [
    {
     "data": {
      "text/plain": [
       "True"
      ]
     },
     "execution_count": 21,
     "metadata": {},
     "output_type": "execute_result"
    }
   ],
   "source": [
    "profession.strip().endswith(\"oper\")"
   ]
  },
  {
   "cell_type": "code",
   "execution_count": 24,
   "id": "0f01657d-5a9a-4a8d-82fb-4f259d1622a0",
   "metadata": {},
   "outputs": [
    {
     "data": {
      "text/plain": [
       "False"
      ]
     },
     "execution_count": 24,
     "metadata": {},
     "output_type": "execute_result"
    }
   ],
   "source": [
    "profession.strip().endswith(\"oper \")"
   ]
  },
  {
   "cell_type": "code",
   "execution_count": 25,
   "id": "6cee8417-ba9e-4113-8f9f-df5b67cdec46",
   "metadata": {},
   "outputs": [
    {
     "data": {
      "text/plain": [
       "True"
      ]
     },
     "execution_count": 25,
     "metadata": {},
     "output_type": "execute_result"
    }
   ],
   "source": [
    "# in - checks for inclusion\n",
    "\"Dev\" in profession.strip()"
   ]
  },
  {
   "cell_type": "code",
   "execution_count": 26,
   "id": "59d45946-092c-4cf7-ac31-0373bb7a0c18",
   "metadata": {},
   "outputs": [
    {
     "data": {
      "text/plain": [
       "False"
      ]
     },
     "execution_count": 26,
     "metadata": {},
     "output_type": "execute_result"
    }
   ],
   "source": [
    "\"dev\" in profession.strip()"
   ]
  },
  {
   "cell_type": "code",
   "execution_count": 27,
   "id": "ddb6ca0e-8700-4635-8a0f-de862a86272f",
   "metadata": {
    "scrolled": true
   },
   "outputs": [
    {
     "data": {
      "text/plain": [
       "True"
      ]
     },
     "execution_count": 27,
     "metadata": {},
     "output_type": "execute_result"
    }
   ],
   "source": [
    "\"dev\" not in profession.strip()"
   ]
  },
  {
   "cell_type": "code",
   "execution_count": 29,
   "id": "5869f72a-2dd9-4c55-a02f-7751b8976b53",
   "metadata": {},
   "outputs": [
    {
     "data": {
      "text/plain": [
       "False"
      ]
     },
     "execution_count": 29,
     "metadata": {},
     "output_type": "execute_result"
    }
   ],
   "source": [
    "\"Dev\" not in profession.strip()"
   ]
  },
  {
   "cell_type": "code",
   "execution_count": null,
   "id": "98dd1427-e56a-4885-9b8c-0bc201427a4f",
   "metadata": {},
   "outputs": [],
   "source": []
  },
  {
   "cell_type": "code",
   "execution_count": null,
   "id": "96b50711-7ac0-4643-9d30-8bc0dae2e1de",
   "metadata": {},
   "outputs": [],
   "source": []
  },
  {
   "cell_type": "markdown",
   "id": "56ea194e",
   "metadata": {},
   "source": [
    "## Lists\n",
    "- A **list** is a mutable data structure that holds an ordered collection of values.\n",
    "- We often use the term **element** to describe an item in the list.\n",
    "- The length of a list is its number of elements.\n",
    "- The **append** method adds an element to the end of the list.\n",
    "- The **pop** methods remove the last element from the list.\n",
    "- The **in** and **not in** keywords check whether or not an element exists within a list."
   ]
  },
  {
   "cell_type": "code",
   "execution_count": 37,
   "id": "5f022822-f353-4e94-8103-c1bf6996aa09",
   "metadata": {},
   "outputs": [
    {
     "data": {
      "text/plain": [
       "[4, 8, 15, 16, 23, 42]"
      ]
     },
     "execution_count": 37,
     "metadata": {},
     "output_type": "execute_result"
    }
   ],
   "source": [
    "[4,8,15,16,23,42]"
   ]
  },
  {
   "cell_type": "code",
   "execution_count": 38,
   "id": "d52fa46c-f491-4d1d-af45-b321dbbbf19d",
   "metadata": {},
   "outputs": [
    {
     "data": {
      "text/plain": [
       "[True, False, True, True, False]"
      ]
     },
     "execution_count": 38,
     "metadata": {},
     "output_type": "execute_result"
    }
   ],
   "source": [
    "[True, False, True, True, False]"
   ]
  },
  {
   "cell_type": "code",
   "execution_count": 39,
   "id": "52960ad6-0956-43f8-8c4f-69dbaa4cd63e",
   "metadata": {},
   "outputs": [],
   "source": [
    "party_attendees = [\"Michael\", \"Freddy\", \"Jason\"]"
   ]
  },
  {
   "cell_type": "code",
   "execution_count": 40,
   "id": "94b88a57-3a02-42df-9fd7-6683adf57312",
   "metadata": {},
   "outputs": [
    {
     "data": {
      "text/plain": [
       "['Michael', 'Freddy', 'Jason']"
      ]
     },
     "execution_count": 40,
     "metadata": {},
     "output_type": "execute_result"
    }
   ],
   "source": [
    "party_attendees"
   ]
  },
  {
   "cell_type": "code",
   "execution_count": 41,
   "id": "8a47e35b-d76d-4c6e-848f-c804aa41a59c",
   "metadata": {},
   "outputs": [
    {
     "data": {
      "text/plain": [
       "6"
      ]
     },
     "execution_count": 41,
     "metadata": {},
     "output_type": "execute_result"
    }
   ],
   "source": [
    "len(\"Python\")"
   ]
  },
  {
   "cell_type": "code",
   "execution_count": 42,
   "id": "02c866fa-6d52-41aa-a151-e32c177ad109",
   "metadata": {},
   "outputs": [
    {
     "data": {
      "text/plain": [
       "3"
      ]
     },
     "execution_count": 42,
     "metadata": {},
     "output_type": "execute_result"
    }
   ],
   "source": [
    "len(party_attendees)"
   ]
  },
  {
   "cell_type": "code",
   "execution_count": 43,
   "id": "efadfcdb-d9e7-4d05-8337-6f429e3d5096",
   "metadata": {},
   "outputs": [
    {
     "data": {
      "text/plain": [
       "list"
      ]
     },
     "execution_count": 43,
     "metadata": {},
     "output_type": "execute_result"
    }
   ],
   "source": [
    "type(party_attendees)"
   ]
  },
  {
   "cell_type": "code",
   "execution_count": 44,
   "id": "b7a39c8c-8322-4d5c-92ed-e3db9e5216d3",
   "metadata": {},
   "outputs": [],
   "source": [
    "party_attendees.append(\"Ardy\")"
   ]
  },
  {
   "cell_type": "code",
   "execution_count": 46,
   "id": "e009a5f8-d05a-4904-8fb8-15778ca4a53c",
   "metadata": {},
   "outputs": [
    {
     "data": {
      "text/plain": [
       "['Michael', 'Freddy', 'Jason', 'Ardy']"
      ]
     },
     "execution_count": 46,
     "metadata": {},
     "output_type": "execute_result"
    }
   ],
   "source": [
    "party_attendees"
   ]
  },
  {
   "cell_type": "code",
   "execution_count": 47,
   "id": "dc1e9345-fa98-4a88-9a0e-228c6cda8a37",
   "metadata": {},
   "outputs": [
    {
     "data": {
      "text/plain": [
       "'Ardy'"
      ]
     },
     "execution_count": 47,
     "metadata": {},
     "output_type": "execute_result"
    }
   ],
   "source": [
    "party_attendees.pop()"
   ]
  },
  {
   "cell_type": "code",
   "execution_count": 48,
   "id": "75a5714b-2991-4325-b94f-4915db7e53dc",
   "metadata": {},
   "outputs": [
    {
     "data": {
      "text/plain": [
       "['Michael', 'Freddy', 'Jason']"
      ]
     },
     "execution_count": 48,
     "metadata": {},
     "output_type": "execute_result"
    }
   ],
   "source": [
    "party_attendees"
   ]
  },
  {
   "cell_type": "code",
   "execution_count": 49,
   "id": "78e2320f-f09b-42d2-b8d3-22590ff1ea2b",
   "metadata": {},
   "outputs": [
    {
     "data": {
      "text/plain": [
       "False"
      ]
     },
     "execution_count": 49,
     "metadata": {},
     "output_type": "execute_result"
    }
   ],
   "source": [
    "\"Ardy\" in party_attendees"
   ]
  },
  {
   "cell_type": "code",
   "execution_count": 50,
   "id": "7caf02da-1764-4aac-b7c3-0baa1221857b",
   "metadata": {},
   "outputs": [
    {
     "data": {
      "text/plain": [
       "True"
      ]
     },
     "execution_count": 50,
     "metadata": {},
     "output_type": "execute_result"
    }
   ],
   "source": [
    "\"Jason\" in party_attendees"
   ]
  },
  {
   "cell_type": "code",
   "execution_count": 51,
   "id": "1a0c2161-1fce-4896-85c0-14eaa94a1a4e",
   "metadata": {},
   "outputs": [],
   "source": [
    "popcorn_flavors = [\"Salted\", \"Unsalted\", \"Caramel\"]"
   ]
  },
  {
   "cell_type": "code",
   "execution_count": 52,
   "id": "27a74ded-b617-4af4-a59b-2b60ac3cd5ef",
   "metadata": {},
   "outputs": [
    {
     "data": {
      "text/plain": [
       "['Salted', 'Unsalted', 'Caramel']"
      ]
     },
     "execution_count": 52,
     "metadata": {},
     "output_type": "execute_result"
    }
   ],
   "source": [
    "popcorn_flavors"
   ]
  },
  {
   "cell_type": "code",
   "execution_count": 53,
   "id": "934a3c72-4a35-4ef9-b3bb-4f948a80d90d",
   "metadata": {},
   "outputs": [
    {
     "data": {
      "text/plain": [
       "'Caramel'"
      ]
     },
     "execution_count": 53,
     "metadata": {},
     "output_type": "execute_result"
    }
   ],
   "source": [
    "popcorn_flavors.pop()"
   ]
  },
  {
   "cell_type": "code",
   "execution_count": 54,
   "id": "f424fe51-85ee-4cd6-9a8e-4e365f1c6e07",
   "metadata": {},
   "outputs": [
    {
     "data": {
      "text/plain": [
       "['Salted', 'Unsalted']"
      ]
     },
     "execution_count": 54,
     "metadata": {},
     "output_type": "execute_result"
    }
   ],
   "source": [
    "popcorn_flavors"
   ]
  },
  {
   "cell_type": "code",
   "execution_count": 55,
   "id": "3cb9c77a-0508-4376-971c-d42491ea6249",
   "metadata": {},
   "outputs": [
    {
     "data": {
      "text/plain": [
       "['Mercury', 'Venus', 'Earth', 'Mars']"
      ]
     },
     "execution_count": 55,
     "metadata": {},
     "output_type": "execute_result"
    }
   ],
   "source": [
    "planets = [\"Mercury\", \"Venus\", \"Earth\", \"Mars\"]\n",
    "planets"
   ]
  },
  {
   "cell_type": "code",
   "execution_count": 56,
   "id": "68f54206-af2a-45da-9c32-dc279fb8e459",
   "metadata": {},
   "outputs": [
    {
     "data": {
      "text/plain": [
       "True"
      ]
     },
     "execution_count": 56,
     "metadata": {},
     "output_type": "execute_result"
    }
   ],
   "source": [
    "\"Earth\" in planets"
   ]
  },
  {
   "cell_type": "code",
   "execution_count": 58,
   "id": "f5e789bf-e811-4b2f-bdcf-508bd5d63d06",
   "metadata": {},
   "outputs": [
    {
     "data": {
      "text/plain": [
       "False"
      ]
     },
     "execution_count": 58,
     "metadata": {},
     "output_type": "execute_result"
    }
   ],
   "source": [
    "\"earth\" in planets"
   ]
  },
  {
   "cell_type": "code",
   "execution_count": 59,
   "id": "e34e14fc-2f8b-4442-aea9-e7667260f669",
   "metadata": {},
   "outputs": [
    {
     "data": {
      "text/plain": [
       "False"
      ]
     },
     "execution_count": 59,
     "metadata": {},
     "output_type": "execute_result"
    }
   ],
   "source": [
    "\"Pluto\" in planets"
   ]
  },
  {
   "cell_type": "code",
   "execution_count": 61,
   "id": "0591f0d1-3cfd-4c26-bb80-53ee8a8a0d74",
   "metadata": {},
   "outputs": [
    {
     "data": {
      "text/plain": [
       "False"
      ]
     },
     "execution_count": 61,
     "metadata": {},
     "output_type": "execute_result"
    }
   ],
   "source": [
    "\"Mars\" not in planets"
   ]
  },
  {
   "cell_type": "code",
   "execution_count": null,
   "id": "ef6e3b09-5a5b-4bac-9933-cebf263318ae",
   "metadata": {},
   "outputs": [],
   "source": []
  },
  {
   "cell_type": "markdown",
   "id": "39e4d0be",
   "metadata": {},
   "source": [
    "## Index Positions and Slicing\n",
    "- Python assigns every string character an **index position** (an order in line).\n",
    "- Python assigns every list element an **index position** (an order in line).\n",
    "- The index starts counting at 0.\n",
    "- Use square brackets to extract a character/element by index position.\n",
    "- Use negative values to extract a character/element relative to the end of the object.\n",
    "- Use slicing to extract multiple character/elements.\n",
    "- The first index in a slice is inclusive. The second index in a slice is exclusive (Python will go up to that index but *not* include its value)."
   ]
  },
  {
   "cell_type": "code",
   "execution_count": 65,
   "id": "d90422d4-d924-4572-819f-cbd6cb9429bc",
   "metadata": {},
   "outputs": [
    {
     "data": {
      "text/plain": [
       "'Spiderman'"
      ]
     },
     "execution_count": 65,
     "metadata": {},
     "output_type": "execute_result"
    }
   ],
   "source": [
    "hero = \"Spiderman\"\n",
    "hero"
   ]
  },
  {
   "cell_type": "code",
   "execution_count": 66,
   "id": "f4dd33c7-3aa2-47db-980c-ea6ced7c3fd7",
   "metadata": {},
   "outputs": [
    {
     "data": {
      "text/plain": [
       "9"
      ]
     },
     "execution_count": 66,
     "metadata": {},
     "output_type": "execute_result"
    }
   ],
   "source": [
    "len(hero)"
   ]
  },
  {
   "cell_type": "code",
   "execution_count": 67,
   "id": "896260bd-644c-4c7f-9bf8-ca0aa30694b2",
   "metadata": {},
   "outputs": [],
   "source": [
    "# 0 1 2 3 4 5 6 7 8\n",
    "# S p i d e r m a n"
   ]
  },
  {
   "cell_type": "code",
   "execution_count": 68,
   "id": "3d699799-eb6b-491c-a715-d66418e5f168",
   "metadata": {},
   "outputs": [
    {
     "data": {
      "text/plain": [
       "'S'"
      ]
     },
     "execution_count": 68,
     "metadata": {},
     "output_type": "execute_result"
    }
   ],
   "source": [
    "hero[0]"
   ]
  },
  {
   "cell_type": "code",
   "execution_count": 69,
   "id": "ec10a22e-9a15-4ed4-a521-2c286af32497",
   "metadata": {},
   "outputs": [
    {
     "data": {
      "text/plain": [
       "'p'"
      ]
     },
     "execution_count": 69,
     "metadata": {},
     "output_type": "execute_result"
    }
   ],
   "source": [
    "hero[1]"
   ]
  },
  {
   "cell_type": "code",
   "execution_count": 70,
   "id": "bb86c514-285a-4fc1-918b-fa259755aac4",
   "metadata": {},
   "outputs": [
    {
     "data": {
      "text/plain": [
       "'n'"
      ]
     },
     "execution_count": 70,
     "metadata": {},
     "output_type": "execute_result"
    }
   ],
   "source": [
    "hero[-1]"
   ]
  },
  {
   "cell_type": "code",
   "execution_count": 71,
   "id": "c41fda02-e3eb-4adf-ae7d-d5d8ff221117",
   "metadata": {},
   "outputs": [
    {
     "data": {
      "text/plain": [
       "'a'"
      ]
     },
     "execution_count": 71,
     "metadata": {},
     "output_type": "execute_result"
    }
   ],
   "source": [
    "hero[-2]"
   ]
  },
  {
   "cell_type": "code",
   "execution_count": 72,
   "id": "e6a17313-2536-4fb8-ae84-ff34b8a41708",
   "metadata": {},
   "outputs": [
    {
     "data": {
      "text/plain": [
       "'n'"
      ]
     },
     "execution_count": 72,
     "metadata": {},
     "output_type": "execute_result"
    }
   ],
   "source": [
    "hero[8]"
   ]
  },
  {
   "cell_type": "code",
   "execution_count": 73,
   "id": "ee695c78-b5ec-4a8b-92b3-20efa4833dfd",
   "metadata": {},
   "outputs": [
    {
     "data": {
      "text/plain": [
       "'S'"
      ]
     },
     "execution_count": 73,
     "metadata": {},
     "output_type": "execute_result"
    }
   ],
   "source": [
    "hero[-9]"
   ]
  },
  {
   "cell_type": "code",
   "execution_count": 74,
   "id": "5f03b5c9-40bb-49ea-bbf7-c04ad8bba640",
   "metadata": {},
   "outputs": [],
   "source": [
    "# Slice"
   ]
  },
  {
   "cell_type": "code",
   "execution_count": 75,
   "id": "c0da720d-1e67-45d5-8b2f-684aa56da7cd",
   "metadata": {},
   "outputs": [
    {
     "data": {
      "text/plain": [
       "'Spiderman'"
      ]
     },
     "execution_count": 75,
     "metadata": {},
     "output_type": "execute_result"
    }
   ],
   "source": [
    "hero"
   ]
  },
  {
   "cell_type": "code",
   "execution_count": 76,
   "id": "ffae0b9a-bdba-436d-a4c7-38742c82e933",
   "metadata": {},
   "outputs": [
    {
     "data": {
      "text/plain": [
       "'Spiderma'"
      ]
     },
     "execution_count": 76,
     "metadata": {},
     "output_type": "execute_result"
    }
   ],
   "source": [
    "hero[0:8]"
   ]
  },
  {
   "cell_type": "code",
   "execution_count": 77,
   "id": "9ecc02cc-3812-44ac-ae8f-a231515a4550",
   "metadata": {},
   "outputs": [
    {
     "data": {
      "text/plain": [
       "'Spid'"
      ]
     },
     "execution_count": 77,
     "metadata": {},
     "output_type": "execute_result"
    }
   ],
   "source": [
    "hero[0:4]"
   ]
  },
  {
   "cell_type": "code",
   "execution_count": 78,
   "id": "6ca83f7e-b500-40bd-b778-3fb338729ae9",
   "metadata": {},
   "outputs": [
    {
     "data": {
      "text/plain": [
       "'pi'"
      ]
     },
     "execution_count": 78,
     "metadata": {},
     "output_type": "execute_result"
    }
   ],
   "source": [
    "hero[1:3]"
   ]
  },
  {
   "cell_type": "code",
   "execution_count": 79,
   "id": "2577222e-59ce-4a9e-a0f6-2b2c52fa9eff",
   "metadata": {},
   "outputs": [
    {
     "data": {
      "text/plain": [
       "'ider'"
      ]
     },
     "execution_count": 79,
     "metadata": {},
     "output_type": "execute_result"
    }
   ],
   "source": [
    "hero[2:6]"
   ]
  },
  {
   "cell_type": "code",
   "execution_count": 80,
   "id": "0f55f044-ffd0-43c5-9461-6c3cfc0a0172",
   "metadata": {},
   "outputs": [
    {
     "data": {
      "text/plain": [
       "'Spider'"
      ]
     },
     "execution_count": 80,
     "metadata": {},
     "output_type": "execute_result"
    }
   ],
   "source": [
    "hero[0:6]"
   ]
  },
  {
   "cell_type": "code",
   "execution_count": 81,
   "id": "c8b2374c-400c-4014-ab3d-7955e6b99c51",
   "metadata": {},
   "outputs": [
    {
     "data": {
      "text/plain": [
       "'Spider'"
      ]
     },
     "execution_count": 81,
     "metadata": {},
     "output_type": "execute_result"
    }
   ],
   "source": [
    "hero[:6]"
   ]
  },
  {
   "cell_type": "code",
   "execution_count": 82,
   "id": "5941d832-b779-42d5-85b4-5fdcbcd09efa",
   "metadata": {},
   "outputs": [
    {
     "data": {
      "text/plain": [
       "'derman'"
      ]
     },
     "execution_count": 82,
     "metadata": {},
     "output_type": "execute_result"
    }
   ],
   "source": [
    "hero[3:100]"
   ]
  },
  {
   "cell_type": "code",
   "execution_count": 83,
   "id": "cd741445-571b-4278-a183-23eeec6572cb",
   "metadata": {},
   "outputs": [
    {
     "data": {
      "text/plain": [
       "'derman'"
      ]
     },
     "execution_count": 83,
     "metadata": {},
     "output_type": "execute_result"
    }
   ],
   "source": [
    "hero[3:]"
   ]
  },
  {
   "cell_type": "code",
   "execution_count": 84,
   "id": "196003ed-8185-4513-a6b7-ecb46ba149b4",
   "metadata": {},
   "outputs": [
    {
     "data": {
      "text/plain": [
       "'derm'"
      ]
     },
     "execution_count": 84,
     "metadata": {},
     "output_type": "execute_result"
    }
   ],
   "source": [
    "hero[3:-2]"
   ]
  },
  {
   "cell_type": "code",
   "execution_count": 85,
   "id": "d0ec8ac7-92be-4468-8c4b-41dc62e25db0",
   "metadata": {},
   "outputs": [
    {
     "data": {
      "text/plain": [
       "['Batman', 'Superman', 'Wolverine', 'Ironman', 'Arnold Schwarzenegger']"
      ]
     },
     "execution_count": 85,
     "metadata": {},
     "output_type": "execute_result"
    }
   ],
   "source": [
    "superheroes = [\"Batman\", \"Superman\", \"Wolverine\", \"Ironman\", \"Arnold Schwarzenegger\"]\n",
    "superheroes"
   ]
  },
  {
   "cell_type": "code",
   "execution_count": 86,
   "id": "e12a4adc-c127-47c7-8c95-1c95c11ac35d",
   "metadata": {},
   "outputs": [
    {
     "data": {
      "text/plain": [
       "'Batman'"
      ]
     },
     "execution_count": 86,
     "metadata": {},
     "output_type": "execute_result"
    }
   ],
   "source": [
    "superheroes[0]"
   ]
  },
  {
   "cell_type": "code",
   "execution_count": 87,
   "id": "32cd4407-fd39-49e2-8b52-a985264860a0",
   "metadata": {},
   "outputs": [
    {
     "data": {
      "text/plain": [
       "'Superman'"
      ]
     },
     "execution_count": 87,
     "metadata": {},
     "output_type": "execute_result"
    }
   ],
   "source": [
    "superheroes[1]"
   ]
  },
  {
   "cell_type": "code",
   "execution_count": 88,
   "id": "50e6908f-11a3-4f6e-b101-08bd52844797",
   "metadata": {},
   "outputs": [
    {
     "data": {
      "text/plain": [
       "'Arnold Schwarzenegger'"
      ]
     },
     "execution_count": 88,
     "metadata": {},
     "output_type": "execute_result"
    }
   ],
   "source": [
    "superheroes[4]"
   ]
  },
  {
   "cell_type": "code",
   "execution_count": 90,
   "id": "0e897419-1af0-44c7-a05a-35b21aa8d0c0",
   "metadata": {},
   "outputs": [
    {
     "data": {
      "text/plain": [
       "5"
      ]
     },
     "execution_count": 90,
     "metadata": {},
     "output_type": "execute_result"
    }
   ],
   "source": [
    "len(superheroes)"
   ]
  },
  {
   "cell_type": "code",
   "execution_count": 91,
   "id": "a8cc2ac0-12d8-4690-8062-dd96077e6b24",
   "metadata": {},
   "outputs": [
    {
     "data": {
      "text/plain": [
       "'Arnold Schwarzenegger'"
      ]
     },
     "execution_count": 91,
     "metadata": {},
     "output_type": "execute_result"
    }
   ],
   "source": [
    "superheroes[-1]"
   ]
  },
  {
   "cell_type": "code",
   "execution_count": 92,
   "id": "79418e47-fd41-4b55-9c6b-5d6d367cd537",
   "metadata": {},
   "outputs": [
    {
     "data": {
      "text/plain": [
       "'Wolverine'"
      ]
     },
     "execution_count": 92,
     "metadata": {},
     "output_type": "execute_result"
    }
   ],
   "source": [
    "superheroes[-3]"
   ]
  },
  {
   "cell_type": "code",
   "execution_count": 93,
   "id": "a3e4f123-709c-4dbb-8c3a-3e3aa31a5921",
   "metadata": {},
   "outputs": [
    {
     "data": {
      "text/plain": [
       "['Superman', 'Wolverine']"
      ]
     },
     "execution_count": 93,
     "metadata": {},
     "output_type": "execute_result"
    }
   ],
   "source": [
    "superheroes[1:3]"
   ]
  },
  {
   "cell_type": "code",
   "execution_count": 94,
   "id": "132a1c11-5c79-44f7-a977-ef3f16864136",
   "metadata": {},
   "outputs": [
    {
     "data": {
      "text/plain": [
       "['Batman', 'Superman', 'Wolverine', 'Ironman']"
      ]
     },
     "execution_count": 94,
     "metadata": {},
     "output_type": "execute_result"
    }
   ],
   "source": [
    "superheroes[0:4]"
   ]
  },
  {
   "cell_type": "code",
   "execution_count": 95,
   "id": "7d6f5d64-3e4f-4943-8232-94544730c98f",
   "metadata": {},
   "outputs": [
    {
     "data": {
      "text/plain": [
       "['Batman', 'Superman', 'Wolverine', 'Ironman']"
      ]
     },
     "execution_count": 95,
     "metadata": {},
     "output_type": "execute_result"
    }
   ],
   "source": [
    "superheroes[:4]"
   ]
  },
  {
   "cell_type": "code",
   "execution_count": 96,
   "id": "dbd08a9e-557d-4d0c-9b6e-c3cc3835639f",
   "metadata": {},
   "outputs": [
    {
     "data": {
      "text/plain": [
       "['Ironman', 'Arnold Schwarzenegger']"
      ]
     },
     "execution_count": 96,
     "metadata": {},
     "output_type": "execute_result"
    }
   ],
   "source": [
    "superheroes[3:]"
   ]
  },
  {
   "cell_type": "code",
   "execution_count": 97,
   "id": "c5deeb0c-8711-45b9-b639-e0479bb575a6",
   "metadata": {},
   "outputs": [
    {
     "data": {
      "text/plain": [
       "['Ironman', 'Arnold Schwarzenegger']"
      ]
     },
     "execution_count": 97,
     "metadata": {},
     "output_type": "execute_result"
    }
   ],
   "source": [
    "superheroes[3:100]"
   ]
  },
  {
   "cell_type": "code",
   "execution_count": null,
   "id": "16a3bfc5-acbd-483b-812c-c70bb3756fb1",
   "metadata": {},
   "outputs": [],
   "source": []
  },
  {
   "cell_type": "markdown",
   "id": "209b8921",
   "metadata": {},
   "source": [
    "## Dictionaries\n",
    "- A **dictionary** is a mutable, unordered collection of key-value pairs.\n",
    "- A **key** is a unique identifier for a value.\n",
    "- A **value** corresponds to the key. The values can contain duplicates.\n",
    "- Use a dictionary for **association** (i.e., to connect/map two values together). Use a list for **order**.\n",
    "- Declare a dictionary with a pair of curly braces.\n",
    "- Write a colon between every key and value.\n",
    "- Separate each key-value pair with a comma and a space.\n",
    "- The length of a dictionary is a count of its key-value pairs."
   ]
  },
  {
   "cell_type": "code",
   "execution_count": 98,
   "id": "8268bf89-5e60-428d-ad02-bde28a70b0c7",
   "metadata": {},
   "outputs": [],
   "source": [
    "dict = {\"key1\":\"value1\", \"key2\":\"value2\"}"
   ]
  },
  {
   "cell_type": "code",
   "execution_count": 99,
   "id": "c7cf377b-63d9-4294-8042-273574023a10",
   "metadata": {},
   "outputs": [
    {
     "data": {
      "text/plain": [
       "'value1'"
      ]
     },
     "execution_count": 99,
     "metadata": {},
     "output_type": "execute_result"
    }
   ],
   "source": [
    "dict[\"key1\"]"
   ]
  },
  {
   "cell_type": "code",
   "execution_count": 104,
   "id": "b509546c-472e-4395-a553-5a478cfd76ea",
   "metadata": {},
   "outputs": [
    {
     "data": {
      "text/plain": [
       "{'Filet Mignon': 29.99, 'Big Mac': 3.99, 'Pizza': 3.99, 'Salmon': 29.99}"
      ]
     },
     "execution_count": 104,
     "metadata": {},
     "output_type": "execute_result"
    }
   ],
   "source": [
    "menu = { \"Filet Mignon\": 29.99, \"Big Mac\": 3.99, \"Pizza\": 3.99, \"Salmon\": 29.99 }\n",
    "menu"
   ]
  },
  {
   "cell_type": "code",
   "execution_count": 105,
   "id": "e5bd4afb-aef1-41f2-bcda-95a53851ada0",
   "metadata": {},
   "outputs": [
    {
     "data": {
      "text/plain": [
       "29.99"
      ]
     },
     "execution_count": 105,
     "metadata": {},
     "output_type": "execute_result"
    }
   ],
   "source": [
    "menu[\"Salmon\"]"
   ]
  },
  {
   "cell_type": "code",
   "execution_count": 106,
   "id": "94bda613-294e-4176-a909-7d8a81b8db5d",
   "metadata": {},
   "outputs": [
    {
     "data": {
      "text/plain": [
       "4"
      ]
     },
     "execution_count": 106,
     "metadata": {},
     "output_type": "execute_result"
    }
   ],
   "source": [
    "len(menu)"
   ]
  },
  {
   "cell_type": "code",
   "execution_count": 110,
   "id": "8c52679c-7243-4bcc-a0da-295edadfd5d8",
   "metadata": {},
   "outputs": [
    {
     "data": {
      "text/plain": [
       "3.99"
      ]
     },
     "execution_count": 110,
     "metadata": {},
     "output_type": "execute_result"
    }
   ],
   "source": [
    "menu[\"Big Mac\"]"
   ]
  },
  {
   "cell_type": "code",
   "execution_count": 112,
   "id": "d16a03ed-0792-4e03-928a-ed2b4a602e57",
   "metadata": {},
   "outputs": [],
   "source": [
    " # menu[\"Tuna\"] # KeyError: 'Tuna'"
   ]
  },
  {
   "cell_type": "code",
   "execution_count": 113,
   "id": "efb57b4e-38f5-40d7-bfef-87ef3f633aa6",
   "metadata": {},
   "outputs": [],
   "source": [
    "menu[\"Burrito\"] = 13.99"
   ]
  },
  {
   "cell_type": "code",
   "execution_count": 114,
   "id": "9f0b28be-b0b3-4fb2-b0a8-cc2251babe98",
   "metadata": {},
   "outputs": [
    {
     "data": {
      "text/plain": [
       "{'Filet Mignon': 29.99,\n",
       " 'Big Mac': 3.99,\n",
       " 'Pizza': 3.99,\n",
       " 'Salmon': 29.99,\n",
       " 'Burrito': 13.99}"
      ]
     },
     "execution_count": 114,
     "metadata": {},
     "output_type": "execute_result"
    }
   ],
   "source": [
    "menu"
   ]
  },
  {
   "cell_type": "code",
   "execution_count": 115,
   "id": "3af08c01-a6f2-49df-86a4-04b05df38f26",
   "metadata": {},
   "outputs": [
    {
     "data": {
      "text/plain": [
       "3.99"
      ]
     },
     "execution_count": 115,
     "metadata": {},
     "output_type": "execute_result"
    }
   ],
   "source": [
    "menu[\"Big Mac\"]"
   ]
  },
  {
   "cell_type": "code",
   "execution_count": 116,
   "id": "4514634b-d2d2-4beb-91b8-46dae21a20f1",
   "metadata": {},
   "outputs": [],
   "source": [
    "menu[\"Big Mac\"] = 5.99"
   ]
  },
  {
   "cell_type": "code",
   "execution_count": 117,
   "id": "12ec3ef8-3201-41e7-ac65-17aa58a14c93",
   "metadata": {},
   "outputs": [
    {
     "data": {
      "text/plain": [
       "{'Filet Mignon': 29.99,\n",
       " 'Big Mac': 5.99,\n",
       " 'Pizza': 3.99,\n",
       " 'Salmon': 29.99,\n",
       " 'Burrito': 13.99}"
      ]
     },
     "execution_count": 117,
     "metadata": {},
     "output_type": "execute_result"
    }
   ],
   "source": [
    "menu"
   ]
  },
  {
   "cell_type": "code",
   "execution_count": 118,
   "id": "a18bb24e-cf04-44f0-9dcd-f9c9f2a336b8",
   "metadata": {},
   "outputs": [
    {
     "data": {
      "text/plain": [
       "29.99"
      ]
     },
     "execution_count": 118,
     "metadata": {},
     "output_type": "execute_result"
    }
   ],
   "source": [
    "menu.pop(\"Filet Mignon\")"
   ]
  },
  {
   "cell_type": "code",
   "execution_count": 119,
   "id": "2b4a718e-5196-497a-b60e-dcffa0e0f165",
   "metadata": {},
   "outputs": [
    {
     "data": {
      "text/plain": [
       "{'Big Mac': 5.99, 'Pizza': 3.99, 'Salmon': 29.99, 'Burrito': 13.99}"
      ]
     },
     "execution_count": 119,
     "metadata": {},
     "output_type": "execute_result"
    }
   ],
   "source": [
    "menu"
   ]
  },
  {
   "cell_type": "code",
   "execution_count": 120,
   "id": "d08cbb8d-e161-4ff2-937e-b60360c0fe9a",
   "metadata": {},
   "outputs": [
    {
     "data": {
      "text/plain": [
       "True"
      ]
     },
     "execution_count": 120,
     "metadata": {},
     "output_type": "execute_result"
    }
   ],
   "source": [
    "\"Pizza\" in menu"
   ]
  },
  {
   "cell_type": "code",
   "execution_count": 121,
   "id": "da5b43cc-1705-4385-ab9d-d4f0683c27a0",
   "metadata": {},
   "outputs": [
    {
     "data": {
      "text/plain": [
       "False"
      ]
     },
     "execution_count": 121,
     "metadata": {},
     "output_type": "execute_result"
    }
   ],
   "source": [
    "\"Hot Pockets\" in menu"
   ]
  },
  {
   "cell_type": "code",
   "execution_count": 122,
   "id": "1756b888-74fa-4a08-99fc-3e9c9b6226d8",
   "metadata": {},
   "outputs": [
    {
     "data": {
      "text/plain": [
       "False"
      ]
     },
     "execution_count": 122,
     "metadata": {},
     "output_type": "execute_result"
    }
   ],
   "source": [
    "5.99 in menu"
   ]
  },
  {
   "cell_type": "code",
   "execution_count": 123,
   "id": "9a14b82a-7f21-47db-9cae-db4e6a5aa5c2",
   "metadata": {},
   "outputs": [
    {
     "data": {
      "text/plain": [
       "dict_values([5.99, 3.99, 29.99, 13.99])"
      ]
     },
     "execution_count": 123,
     "metadata": {},
     "output_type": "execute_result"
    }
   ],
   "source": [
    "menu.values()"
   ]
  },
  {
   "cell_type": "code",
   "execution_count": 125,
   "id": "b29f46f7-dbf3-44c2-ab51-d6366a5127ee",
   "metadata": {},
   "outputs": [
    {
     "data": {
      "text/plain": [
       "True"
      ]
     },
     "execution_count": 125,
     "metadata": {},
     "output_type": "execute_result"
    }
   ],
   "source": [
    "5.99 in menu.values()"
   ]
  },
  {
   "cell_type": "code",
   "execution_count": 126,
   "id": "1ce1fe32-4143-4f75-88b7-2cb401467ac1",
   "metadata": {},
   "outputs": [
    {
     "data": {
      "text/plain": [
       "True"
      ]
     },
     "execution_count": 126,
     "metadata": {},
     "output_type": "execute_result"
    }
   ],
   "source": [
    "\"Lasagna\" not in menu"
   ]
  },
  {
   "cell_type": "code",
   "execution_count": 127,
   "id": "81dd0064-3eef-45d9-8a48-c68ab9824774",
   "metadata": {},
   "outputs": [
    {
     "data": {
      "text/plain": [
       "False"
      ]
     },
     "execution_count": 127,
     "metadata": {},
     "output_type": "execute_result"
    }
   ],
   "source": [
    "\"Salmon\" not in menu"
   ]
  },
  {
   "cell_type": "code",
   "execution_count": 128,
   "id": "f7d78273-f728-4d50-bc4d-c41e64ff3598",
   "metadata": {},
   "outputs": [
    {
     "data": {
      "text/plain": [
       "True"
      ]
     },
     "execution_count": 128,
     "metadata": {},
     "output_type": "execute_result"
    }
   ],
   "source": [
    "49.99 not in menu.values()"
   ]
  },
  {
   "cell_type": "code",
   "execution_count": null,
   "id": "34eefda4-bc68-4661-8f3b-281f16006127",
   "metadata": {},
   "outputs": [],
   "source": []
  },
  {
   "cell_type": "markdown",
   "id": "f266aada-0759-4373-8874-7a6080a6a1a2",
   "metadata": {},
   "source": [
    "## Classes\n",
    "- A **class** is a blueprint/template for creating objects.\n",
    "- A **class** defines the methods/functionalities that objects made from it will have.\n",
    "- An object is called an **instance** of the class it is made from.\n",
    "- The act of creating an object from a class is called **instantiation**.\n",
    "- Every time we've worked with a Python object, it's been \"instantiated\" from a class.\n",
    "- In real world terms, a class is the blueprint and the house we build is the instance/object.\n",
    "- Syntax options like `\"\"` or `[]` or `{}` are shortcuts for instantiation.\n",
    "- For other classes, we'll need to use `class()` syntax to instantiate an object.\n",
    "- Much like functions and methods, some class instantiations will require arguments."
   ]
  },
  {
   "cell_type": "markdown",
   "id": "a62a901f-1f47-4682-925b-1564312e1fc2",
   "metadata": {
    "tags": []
   },
   "source": [
    "<img src=\"Blueprint.png\" width=\"600\" height=\"410\">"
   ]
  },
  {
   "cell_type": "markdown",
   "id": "40053702-9cb6-4f86-a03e-84fa97fb8b4e",
   "metadata": {},
   "source": [
    "## Navigating Libraries using Jupyter Lab"
   ]
  },
  {
   "cell_type": "code",
   "execution_count": 129,
   "id": "20545267-3f61-4c06-8318-601e9fae4b1e",
   "metadata": {
    "tags": []
   },
   "outputs": [],
   "source": [
    "import pandas as pd"
   ]
  },
  {
   "cell_type": "code",
   "execution_count": 130,
   "id": "a6b95663-b6cf-426a-8464-349813fbe947",
   "metadata": {},
   "outputs": [
    {
     "data": {
      "text/plain": [
       "pandas.core.arrays.categorical.Categorical"
      ]
     },
     "execution_count": 130,
     "metadata": {},
     "output_type": "execute_result"
    }
   ],
   "source": [
    "pd.Categorical"
   ]
  },
  {
   "cell_type": "code",
   "execution_count": null,
   "id": "4d7ed499-dac8-4cfd-888f-e1c0491e8c2d",
   "metadata": {},
   "outputs": [],
   "source": [
    "# some_library\n",
    "#import some_library as sl\n",
    "# sl.Categorical"
   ]
  },
  {
   "cell_type": "code",
   "execution_count": null,
   "id": "10c45fb2-606a-48a3-a5b9-dd84c48fe090",
   "metadata": {},
   "outputs": [],
   "source": []
  },
  {
   "cell_type": "code",
   "execution_count": null,
   "id": "81ead5c9-db76-445d-937e-fb4ab925eef6",
   "metadata": {},
   "outputs": [],
   "source": []
  }
 ],
 "metadata": {
  "kernelspec": {
   "display_name": "Python 3 (ipykernel)",
   "language": "python",
   "name": "python3"
  },
  "language_info": {
   "codemirror_mode": {
    "name": "ipython",
    "version": 3
   },
   "file_extension": ".py",
   "mimetype": "text/x-python",
   "name": "python",
   "nbconvert_exporter": "python",
   "pygments_lexer": "ipython3",
   "version": "3.13.7"
  }
 },
 "nbformat": 4,
 "nbformat_minor": 5
}
